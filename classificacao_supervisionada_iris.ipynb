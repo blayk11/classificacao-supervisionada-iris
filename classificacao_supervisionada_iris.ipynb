{
  "cells": [
    {
      "cell_type": "markdown",
      "metadata": {
        "colab_type": "text",
        "id": "view-in-github"
      },
      "source": [
        "<a href=\"https://colab.research.google.com/github/blayk11/classificacao-supervisionada-iris/blob/main/classificacao_supervisionada_iris.ipynb\" target=\"_parent\"><img src=\"https://colab.research.google.com/assets/colab-badge.svg\" alt=\"Open In Colab\"/></a>"
      ]
    },
    {
      "cell_type": "markdown",
      "metadata": {
        "id": "lbiuvrrfn2t8"
      },
      "source": [
        "Objetivo:\n",
        "\n",
        "Hands-on: scikit-learn — construir pipeline simples (preprocessamento + classificação com validação cruzada) em Python (notebook)"
      ]
    },
    {
      "cell_type": "code",
      "execution_count": 10,
      "metadata": {
        "colab": {
          "base_uri": "https://localhost:8080/"
        },
        "id": "a4i0h46ZoNoN",
        "outputId": "dfa0923b-e4c2-404d-fd42-fb4beb894bfc"
      },
      "outputs": [
        {
          "name": "stdout",
          "output_type": "stream",
          "text": [
            "[[-0.9   1.02 -1.34 -1.32]\n",
            " [-1.14 -0.13 -1.34 -1.32]\n",
            " [-1.39  0.33 -1.4  -1.32]\n",
            " [-1.51  0.1  -1.28 -1.32]\n",
            " [-1.02  1.25 -1.34 -1.32]]\n"
          ]
        }
      ],
      "source": [
        "# Importar as bibliotecas necessárias\n",
        "from sklearn.datasets import load_iris # Dataset iris para classificação de espécie de flores\n",
        "import pandas as pd # Biblioteca para manipulação de dados em DataFrame\n",
        "import numpy as np # Biblioteca para cálculos numéricos e manipulação de arrays\n",
        "\n",
        "# Carregar o dataset\n",
        "iris = load_iris()\n",
        "X = pd.DataFrame(iris.data, columns=iris.feature_names) # X (DataFrame com as variáveis preditoras), iris.data (comprimento e largura das pétalas e sépalas), iris.features_names (nomes das variáveis)\n",
        "y = iris.target # y (vetor com rótulas das classes, representando as espécies de flores)\n",
        "\n",
        "# Pré-processamento\n",
        "from sklearn.preprocessing import StandardScaler # classe que normaliza os dados de cada variável com média 0 e desvio padrão de 1\n",
        "scaler = StandardScaler()\n",
        "X_scaled = scaler.fit_transform(X) # X_scaled (matriz com os dados normalizados, pronto para utilização), fit_transform(X) (calcula e aplica os parâmetros de normalização)\n",
        "\n",
        "# Mostrar os 5 primeiros registros normalizados, valores arredondados em duas casas decimais\n",
        "print(np.round(X_scaled[:5], 2))"
      ]
    },
    {
      "cell_type": "markdown",
      "metadata": {
        "id": "3c4lYxy-sxpM"
      },
      "source": [
        "Classificação Com Validação Cruzada"
      ]
    },
    {
      "cell_type": "code",
      "execution_count": 14,
      "metadata": {
        "colab": {
          "base_uri": "https://localhost:8080/"
        },
        "id": "4gVrifLCs1x1",
        "outputId": "4d3b214a-911c-4679-cd19-a55b40f5366c"
      },
      "outputs": [
        {
          "name": "stdout",
          "output_type": "stream",
          "text": [
            "Acurácias por fold: [0.96666667 0.96666667 0.93333333 0.96666667 1.        ]\n",
            "Acurácia média: 0.9666666666666668\n"
          ]
        }
      ],
      "source": [
        "from sklearn.ensemble import RandomForestClassifier # Modelo de classificação baseados em várias árvores de decisão\n",
        "from sklearn.model_selection import cross_val_score # Função que aplica validação cruzada e retorna as métricas de desempenho em cada rodada\n",
        "\n",
        "# Criar o modelo de flores aleatória\n",
        "model = RandomForestClassifier(random_state=42) # Garante que os resultados sejam reproduzíveis (mesmo sorteio de dados)\n",
        "\n",
        "# Aplicar a validação cruzada com 5 folds\n",
        "scores = cross_val_score(model, X_scaled, y, cv=5) # Vetor com a acurácia obtida em cada rodada\n",
        "\n",
        "# Exibição individual de acurácias e média geral\n",
        "print(\"Acurácias por fold:\", scores)\n",
        "print(\"Acurácia média:\", scores.mean())"
      ]
    },
    {
      "cell_type": "markdown",
      "metadata": {
        "id": "EvoxAk3QuXgL"
      },
      "source": [
        "Visualização"
      ]
    },
    {
      "cell_type": "code",
      "execution_count": 16,
      "metadata": {
        "colab": {
          "base_uri": "https://localhost:8080/",
          "height": 437
        },
        "id": "6QJ2SxTGucGZ",
        "outputId": "859bcf28-9ed8-4507-ddda-73bffef8ea94"
      },
      "outputs": [
        {
          "data": {
            "image/png": "[encoded data removed]",
            "text/plain": [
              "<Figure size 640x480 with 1 Axes>"
            ]
          },
          "metadata": {},
          "output_type": "display_data"
        }
      ],
      "source": [
        "# Bibliotecas para visualização de dados\n",
        "import seaborn as sns # Para gráficos estatísticos\n",
        "import matplotlib.pyplot as plt # Base para gráficos em Python\n",
        "\n",
        "# Criar um boxplot para visualizar a variação das acurácias e verificar a consistência do modelo\n",
        "sns.boxplot(data=scores)\n",
        "plt.title(\"Distribuição da Acurácia por Fold\")\n",
        "plt.ylabel(\"Acurácia\")\n",
        "plt.show()"
      ]
    },
    {
      "cell_type": "markdown",
      "metadata": {
        "id": "W3IaPqqOwCjK"
      },
      "source": [
        "**Conclusão:** O modelo Random Forest obteve uma acurácia média próxima de 90%, com pouca variação entre folds, indicando alta consistência e boa capacidade de generalização.\n"
      ]
    }
  ],
  "metadata": {
    "colab": {
      "authorship_tag": "ABX9TyNSWlJX0+NKCaV5Bt9J5Mga",
      "include_colab_link": true,
      "provenance": [],
      "toc_visible": true
    },
    "kernelspec": {
      "display_name": "Python 3",
      "name": "python3"
    },
    "language_info": {
      "name": "python"
    }
  },
  "nbformat": 4,
  "nbformat_minor": 0
}
